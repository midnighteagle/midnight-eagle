{
 "cells": [
  {
   "cell_type": "markdown",
   "id": "499b1acd",
   "metadata": {},
   "source": [
    "# python operator\n",
    "- logical\n",
    "- Equality\n",
    "- Comparision\n",
    "- Arithmetic"
   ]
  },
  {
   "cell_type": "markdown",
   "id": "377ddb21",
   "metadata": {},
   "source": [
    "## 4.1.1 logical operator\n",
    "In python following keywords are used for boolean operations -\n",
    "\n",
    "|Keywords|Meaning|\n",
    "|-|-|\n",
    "|**not**|Unary negation|\n",
    "|**and**|conditional AND|\n",
    "|**or**|conditional OR|\n",
    "\n",
    "**EXAMPLES**:\n"
   ]
  },
  {
   "cell_type": "markdown",
   "id": "c6a49f4f",
   "metadata": {},
   "source": [
    "In python following keywords are used for boolean operations -\n",
    "\n",
    "|Keywords|Meaning|\n",
    "|-|-|\n",
    "|**not**|Unary negation|\n",
    "|**and**|conditional AND|\n",
    "|**or**|conditional OR|\n",
    "\n",
    "**EXAMPLES**:"
   ]
  },
  {
   "cell_type": "code",
   "execution_count": 2,
   "id": "9a0e35eb",
   "metadata": {},
   "outputs": [
    {
     "data": {
      "text/plain": [
       "True"
      ]
     },
     "execution_count": 2,
     "metadata": {},
     "output_type": "execute_result"
    }
   ],
   "source": [
    "True"
   ]
  },
  {
   "cell_type": "code",
   "execution_count": 3,
   "id": "4abf5433",
   "metadata": {},
   "outputs": [
    {
     "data": {
      "text/plain": [
       "bool"
      ]
     },
     "execution_count": 3,
     "metadata": {},
     "output_type": "execute_result"
    }
   ],
   "source": [
    "type(True)"
   ]
  },
  {
   "cell_type": "code",
   "execution_count": 4,
   "id": "00a8f285",
   "metadata": {},
   "outputs": [
    {
     "data": {
      "text/plain": [
       "bool"
      ]
     },
     "execution_count": 4,
     "metadata": {},
     "output_type": "execute_result"
    }
   ],
   "source": [
    "type(False)"
   ]
  },
  {
   "cell_type": "code",
   "execution_count": 5,
   "id": "98a7d067",
   "metadata": {},
   "outputs": [
    {
     "data": {
      "text/plain": [
       "True"
      ]
     },
     "execution_count": 5,
     "metadata": {},
     "output_type": "execute_result"
    }
   ],
   "source": [
    "bool(1)"
   ]
  },
  {
   "cell_type": "code",
   "execution_count": 7,
   "id": "8481a0d4",
   "metadata": {},
   "outputs": [
    {
     "data": {
      "text/plain": [
       "False"
      ]
     },
     "execution_count": 7,
     "metadata": {},
     "output_type": "execute_result"
    }
   ],
   "source": [
    "bool(0)"
   ]
  },
  {
   "cell_type": "code",
   "execution_count": 8,
   "id": "6848c777",
   "metadata": {},
   "outputs": [],
   "source": [
    "a= True \n",
    "b= False"
   ]
  },
  {
   "cell_type": "code",
   "execution_count": 9,
   "id": "a4fcf026",
   "metadata": {},
   "outputs": [
    {
     "data": {
      "text/plain": [
       "False"
      ]
     },
     "execution_count": 9,
     "metadata": {},
     "output_type": "execute_result"
    }
   ],
   "source": [
    "True and False"
   ]
  },
  {
   "cell_type": "code",
   "execution_count": 11,
   "id": "e8e89422",
   "metadata": {},
   "outputs": [
    {
     "data": {
      "text/plain": [
       "True"
      ]
     },
     "execution_count": 11,
     "metadata": {},
     "output_type": "execute_result"
    }
   ],
   "source": [
    "True or False"
   ]
  },
  {
   "cell_type": "code",
   "execution_count": 13,
   "id": "0135d255",
   "metadata": {},
   "outputs": [
    {
     "data": {
      "text/plain": [
       "False"
      ]
     },
     "execution_count": 13,
     "metadata": {},
     "output_type": "execute_result"
    }
   ],
   "source": [
    " not True"
   ]
  },
  {
   "cell_type": "code",
   "execution_count": 14,
   "id": "c7c444b4",
   "metadata": {},
   "outputs": [
    {
     "data": {
      "text/plain": [
       "True"
      ]
     },
     "execution_count": 14,
     "metadata": {},
     "output_type": "execute_result"
    }
   ],
   "source": [
    " not False"
   ]
  },
  {
   "cell_type": "code",
   "execution_count": 20,
   "id": "6887472a",
   "metadata": {},
   "outputs": [
    {
     "name": "stdout",
     "output_type": "stream",
     "text": [
      "Enter your age21\n",
      "Mid age\n"
     ]
    }
   ],
   "source": [
    "age=int(input(\"Enter your age\"))\n",
    "if age>18 and age<=34:\n",
    "    print(\"Mid age\")"
   ]
  },
  {
   "cell_type": "code",
   "execution_count": 21,
   "id": "1afb7339",
   "metadata": {},
   "outputs": [
    {
     "name": "stdout",
     "output_type": "stream",
     "text": [
      "Enter your age36\n"
     ]
    }
   ],
   "source": [
    "age=int(input(\"Enter your age\"))\n",
    "if age>18 and age<=34:\n",
    "    print(\"Mid age\")"
   ]
  },
  {
   "cell_type": "code",
   "execution_count": 22,
   "id": "2a2a794d",
   "metadata": {},
   "outputs": [
    {
     "name": "stdout",
     "output_type": "stream",
     "text": [
      "Enter your age12\n"
     ]
    }
   ],
   "source": [
    "age=int(input(\"Enter your age\"))\n",
    "if age>18 and age<=34:\n",
    "    print(\"Mid age\")"
   ]
  },
  {
   "cell_type": "code",
   "execution_count": 25,
   "id": "d95ec522",
   "metadata": {},
   "outputs": [
    {
     "name": "stdout",
     "output_type": "stream",
     "text": [
      "Enter your age12\n",
      "Sucessful Executrion\n"
     ]
    }
   ],
   "source": [
    "age=int(input(\"Enter your age\"))\n",
    "if age<18 or age>=34:\n",
    "    print(\"Sucessful Executrion\")"
   ]
  },
  {
   "cell_type": "markdown",
   "id": "02ab2c4d",
   "metadata": {},
   "source": [
    "### Equality Operators\n",
    "\n",
    "Following operations are present un python for equlity cheak operatios -\n",
    "\n",
    "|operators|Meaning|\n",
    "|-|-|\n",
    "|**is**|***a is b*** returns true if variable /indentifiers a and b *points* to the *same object*|\n",
    "|**is not**|***a is not b*** returns true if variable /indentifiers a and b *points* to the *diffrent objects*|\n",
    "|**==**|***a == b*** returns true if variable /indentifiers a and b same value|\n",
    "|**!=**|***a != b*** returns true if variable /indentifiers a and b has diffrent value|"
   ]
  },
  {
   "cell_type": "code",
   "execution_count": 26,
   "id": "4b7a6398",
   "metadata": {},
   "outputs": [
    {
     "data": {
      "text/plain": [
       "True"
      ]
     },
     "execution_count": 26,
     "metadata": {},
     "output_type": "execute_result"
    }
   ],
   "source": [
    "a=\"akshat\"\n",
    "b=\"akshat\"\n",
    "\n",
    "a==b"
   ]
  },
  {
   "cell_type": "code",
   "execution_count": 27,
   "id": "de150397",
   "metadata": {},
   "outputs": [
    {
     "data": {
      "text/plain": [
       "False"
      ]
     },
     "execution_count": 27,
     "metadata": {},
     "output_type": "execute_result"
    }
   ],
   "source": [
    "a=\"akshat\"\n",
    "b=\"akshat2\"\n",
    "\n",
    "a==b"
   ]
  },
  {
   "cell_type": "code",
   "execution_count": 30,
   "id": "9dd9de04",
   "metadata": {},
   "outputs": [
    {
     "name": "stdout",
     "output_type": "stream",
     "text": [
      "Enter your Age18\n",
      "you are in the teenager age\n"
     ]
    }
   ],
   "source": [
    "age = int(input(\"Enter your Age\"))\n",
    "\n",
    "if age==18:\n",
    "    print(\"you are in the teenager age\")"
   ]
  },
  {
   "cell_type": "code",
   "execution_count": 31,
   "id": "fe17cb7a",
   "metadata": {},
   "outputs": [
    {
     "name": "stdout",
     "output_type": "stream",
     "text": [
      "Enter your Age12\n"
     ]
    }
   ],
   "source": [
    "age = int(input(\"Enter your Age\"))\n",
    "\n",
    "if age==18:\n",
    "    print(\"you are in the teenager age\")"
   ]
  },
  {
   "cell_type": "code",
   "execution_count": 32,
   "id": "ca77978d",
   "metadata": {},
   "outputs": [
    {
     "name": "stdout",
     "output_type": "stream",
     "text": [
      "Enter your Age19\n"
     ]
    }
   ],
   "source": [
    "age = int(input(\"Enter your Age\"))\n",
    "\n",
    "if age==18:\n",
    "    print(\"you are in the teenager age\")"
   ]
  },
  {
   "cell_type": "code",
   "execution_count": 34,
   "id": "ecab7c81",
   "metadata": {},
   "outputs": [
    {
     "name": "stdout",
     "output_type": "stream",
     "text": [
      "Akshat\n"
     ]
    }
   ],
   "source": [
    "a=\"Akshat\"\n",
    "b=\"Akshat\"\n",
    "print(a)"
   ]
  },
  {
   "cell_type": "code",
   "execution_count": 36,
   "id": "fdbbced5",
   "metadata": {},
   "outputs": [
    {
     "name": "stdout",
     "output_type": "stream",
     "text": [
      "2816683660144\n"
     ]
    }
   ],
   "source": [
    "a=\"Akshat\"\n",
    "b=\"Akshat\"\n",
    "print(id(a))"
   ]
  },
  {
   "cell_type": "code",
   "execution_count": 37,
   "id": "130bab0c",
   "metadata": {},
   "outputs": [
    {
     "name": "stdout",
     "output_type": "stream",
     "text": [
      "2816683660144\n"
     ]
    }
   ],
   "source": [
    "a=\"Akshat\"\n",
    "b=\"Akshat\"\n",
    "print(id(b))"
   ]
  },
  {
   "cell_type": "code",
   "execution_count": 38,
   "id": "a79612c4",
   "metadata": {},
   "outputs": [
    {
     "name": "stdout",
     "output_type": "stream",
     "text": [
      "2816683660144\n",
      "2816683660144\n"
     ]
    }
   ],
   "source": [
    "a=\"Akshat\"\n",
    "b=\"Akshat\"\n",
    "print(id(a))\n",
    "print(id(b))"
   ]
  },
  {
   "cell_type": "code",
   "execution_count": 39,
   "id": "d5b39e7c",
   "metadata": {},
   "outputs": [
    {
     "data": {
      "text/plain": [
       "True"
      ]
     },
     "execution_count": 39,
     "metadata": {},
     "output_type": "execute_result"
    }
   ],
   "source": [
    "a is b"
   ]
  },
  {
   "cell_type": "code",
   "execution_count": 40,
   "id": "7a90103a",
   "metadata": {},
   "outputs": [
    {
     "name": "stdout",
     "output_type": "stream",
     "text": [
      "2816683662336\n",
      "2816683643584\n"
     ]
    }
   ],
   "source": [
    "lst=[1,2,3]\n",
    "lst1=[1,2,3]\n",
    "print(id(lst))\n",
    "print(id(lst1))"
   ]
  },
  {
   "cell_type": "code",
   "execution_count": 41,
   "id": "c1ef2f2b",
   "metadata": {},
   "outputs": [
    {
     "data": {
      "text/plain": [
       "True"
      ]
     },
     "execution_count": 41,
     "metadata": {},
     "output_type": "execute_result"
    }
   ],
   "source": [
    " lst==lst1"
   ]
  },
  {
   "cell_type": "code",
   "execution_count": 46,
   "id": "8c980f59",
   "metadata": {},
   "outputs": [
    {
     "data": {
      "text/plain": [
       "True"
      ]
     },
     "execution_count": 46,
     "metadata": {},
     "output_type": "execute_result"
    }
   ],
   "source": [
    " lst is not lst1"
   ]
  },
  {
   "cell_type": "code",
   "execution_count": 47,
   "id": "17728676",
   "metadata": {},
   "outputs": [
    {
     "data": {
      "text/plain": [
       "False"
      ]
     },
     "execution_count": 47,
     "metadata": {},
     "output_type": "execute_result"
    }
   ],
   "source": [
    " lst is lst1"
   ]
  },
  {
   "cell_type": "code",
   "execution_count": 48,
   "id": "087aebf4",
   "metadata": {},
   "outputs": [
    {
     "data": {
      "text/plain": [
       "True"
      ]
     },
     "execution_count": 48,
     "metadata": {},
     "output_type": "execute_result"
    }
   ],
   "source": [
    "\"akshat\" != \"akshat1\""
   ]
  },
  {
   "cell_type": "markdown",
   "id": "afb3cb33",
   "metadata": {},
   "source": [
    "# comparision operators II\n",
    "\n",
    "|Opration|Meaning|\n",
    "|:-:|:-:|\n",
    "| **<** |less than|\n",
    "| **<=** |less than or equal to|\n",
    "| **>** |greater than|\n",
    "| **>=** |greater than or equal to|"
   ]
  },
  {
   "cell_type": "code",
   "execution_count": 1,
   "id": "ff18a554",
   "metadata": {},
   "outputs": [
    {
     "name": "stdout",
     "output_type": "stream",
     "text": [
      "enter your marks35\n",
      "pass👌\n"
     ]
    }
   ],
   "source": [
    "marks= float(input(\"enter your marks\"))\n",
    "\n",
    "if marks>=35:\n",
    "    print(\"pass👌\")\n",
    "elif marks>=50 and marks<=70:\n",
    "    print (\"first😊\")\n",
    "elif marks<35:\n",
    "    print(\"fail😶‍🌫️🤐\")"
   ]
  },
  {
   "cell_type": "code",
   "execution_count": 3,
   "id": "f28d9d6b",
   "metadata": {},
   "outputs": [
    {
     "name": "stdout",
     "output_type": "stream",
     "text": [
      "Enter your number70\n",
      "pass\n",
      "First\n"
     ]
    }
   ],
   "source": [
    "marks= float(input(\"Enter your number\"))\n",
    "\n",
    "if marks>=35:\n",
    "    print(\"pass\")\n",
    "    if marks>=50 and marks<=70:\n",
    "        print(\"First\")\n",
    "elif marks<35:\n",
    "    print(\"Fail\")"
   ]
  },
  {
   "cell_type": "markdown",
   "id": "167934bb",
   "metadata": {},
   "source": [
    "## Arithmetic Operators\n",
    "|Operation|Meaning|\n",
    "|:-:|:-:|\n",
    "| **+** |addition|\n",
    "| **-** |substraction|\n",
    "| **\\*** |Multiplication|\n",
    "| **/** |True Division|\n",
    "| **//** |integer Division|\n",
    "| **%**  |the modulo operator|"
   ]
  },
  {
   "cell_type": "code",
   "execution_count": 4,
   "id": "29235ade",
   "metadata": {},
   "outputs": [
    {
     "data": {
      "text/plain": [
       "52"
      ]
     },
     "execution_count": 4,
     "metadata": {},
     "output_type": "execute_result"
    }
   ],
   "source": [
    "24+28\n"
   ]
  },
  {
   "cell_type": "code",
   "execution_count": 5,
   "id": "14e7d483",
   "metadata": {},
   "outputs": [
    {
     "data": {
      "text/plain": [
       "12"
      ]
     },
     "execution_count": 5,
     "metadata": {},
     "output_type": "execute_result"
    }
   ],
   "source": [
    "24-12\n",
    "\n"
   ]
  },
  {
   "cell_type": "code",
   "execution_count": 6,
   "id": "eeb6f05f",
   "metadata": {},
   "outputs": [
    {
     "data": {
      "text/plain": [
       "1008"
      ]
     },
     "execution_count": 6,
     "metadata": {},
     "output_type": "execute_result"
    }
   ],
   "source": [
    "24*42"
   ]
  },
  {
   "cell_type": "code",
   "execution_count": 7,
   "id": "2275c70d",
   "metadata": {},
   "outputs": [
    {
     "data": {
      "text/plain": [
       "3.75"
      ]
     },
     "execution_count": 7,
     "metadata": {},
     "output_type": "execute_result"
    }
   ],
   "source": [
    "45/12"
   ]
  },
  {
   "cell_type": "code",
   "execution_count": 9,
   "id": "c2ed064f",
   "metadata": {},
   "outputs": [
    {
     "data": {
      "text/plain": [
       "3"
      ]
     },
     "execution_count": 9,
     "metadata": {},
     "output_type": "execute_result"
    }
   ],
   "source": [
    "45//12"
   ]
  },
  {
   "cell_type": "code",
   "execution_count": 10,
   "id": "7ec6fe43",
   "metadata": {},
   "outputs": [
    {
     "data": {
      "text/plain": [
       "9"
      ]
     },
     "execution_count": 10,
     "metadata": {},
     "output_type": "execute_result"
    }
   ],
   "source": [
    "48//5\n"
   ]
  },
  {
   "cell_type": "code",
   "execution_count": null,
   "id": "bcc76a4a",
   "metadata": {},
   "outputs": [],
   "source": [
    "  "
   ]
  }
 ],
 "metadata": {
  "kernelspec": {
   "display_name": "Python 3 (ipykernel)",
   "language": "python",
   "name": "python3"
  },
  "language_info": {
   "codemirror_mode": {
    "name": "ipython",
    "version": 3
   },
   "file_extension": ".py",
   "mimetype": "text/x-python",
   "name": "python",
   "nbconvert_exporter": "python",
   "pygments_lexer": "ipython3",
   "version": "3.9.12"
  }
 },
 "nbformat": 4,
 "nbformat_minor": 5
}
